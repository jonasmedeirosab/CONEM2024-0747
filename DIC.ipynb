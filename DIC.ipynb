#Esse código foi escrito na linguagem Python 3.12.2 

import pandas as pd
import numpy as np
from scipy.optimize import fsolve

#análise da simulação do corpo de prova com output do Abaqus

data = pd.read_csv('##############')

x = data['Frame'].str.split('Step Time = ', expand = True)
data['Step Time'] = x[1]
data['Step Time'] = datar125['Step Time'].astype('float64')

data.drop(labels = {'ODB Name', 'Step', 'Frame', 'Part Instance Name', 'Section Name', 'Material Name', 'Section Point'},
              axis = 1, inplace = True)
data.rename(columns = {' Element Label': 'Element Label',
                       '    Node Label': 'Node Label',
                       '         S-S11': 'S11',
                       '         S-S22': 'S22',
                       '         S-S33': 'S33',
                       '         S-S12': 'S12',
                       '         S-S13': 'S13',
                       '         S-S23': 'S23',
                       '          PEEQ' : 'PEEQ',
                       '         TRIAX' : 'TRIAX'},
            inplace = True)
data = data[(data['X'] >= (15 - 1.5)) &
                    (data['X'] <= (15 + 1.5)) &
                    (data['Y'] >= (50 - 1.25 - 1.5)) &
                    (data['Y'] <= (50 + 1.25 + 1.5)) &
                    (data['Z'] == 0)]

x1, y1 = (15 - 0.1), (50 - 1.5)
x2, y2 = (15 + 0.1), (50 + 1.5)

data = data[(datar150['X'] >= x1) &
            (datar150['X'] <= x2) &
            (datar150['Y'] >= y1) &
            (datar150['Y'] <= y2)].drop(columns = 'Element Label').drop_duplicates()


datar125 = datar125[(datar125['X'] >= (15 - 1.25)) &
                    (datar125['X'] <= (15 + 1.25)) &
                    (datar125['Y'] >= (50 - 1.25 - 1.25)) &
                    (datar125['Y'] <= (50 + 1.25 + 1.25)) &
                    (datar125['Z'] == 0)]
